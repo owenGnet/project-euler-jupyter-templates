{
 "cells": [
  {
   "cell_type": "markdown",
   "metadata": {
    "collapsed": true
   },
   "source": [
    "<div style=\"text-align:center;\">\n",
    "<img alt=\"\" <img src=\"./images/logo_default.png\"/><br/>\n",
    "</div>"
   ]
  },
  {
   "cell_type": "code",
   "execution_count": null,
   "metadata": {},
   "outputs": [],
   "source": []
  },
  {
   "cell_type": "markdown",
   "metadata": {
    "collapsed": true
   },
   "source": [
    "<h2 style=\"color: #6b4e3d;\">Prime digit replacements</h2>\n",
    "<div id=\"problem_info\" style=\"font-family: Consolas;\"><h3>Problem 51</h3></div>\n",
    "<div class=\"problem_content\" role=\"problem\" style='background-color: #fff; color: #111; padding: 20px;font-family: \"Segoe UI\", Arial, sans-serif; font-size: 110%;border: solid 1px #bbb; box-shadow: 5px 5px 5px #bbb;'>\n",
    "<p>By replacing the 1<sup>st</sup> digit of the 2-digit number *3, it turns out that six of the nine possible values: 13, 23, 43, 53, 73, and 83, are all prime.</p>\n",
    "<p>By replacing the 3<sup>rd</sup> and 4<sup>th</sup> digits of 56**3 with the same digit, this 5-digit number is the first example having seven primes among the ten generated numbers, yielding the family: 56003, 56113, 56333, 56443, 56663, 56773, and 56993. Consequently 56003, being the first member of this family, is the smallest prime with this property.</p>\n",
    "<p>Find the smallest prime which, by replacing part of the number (not necessarily adjacent digits) with the same digit, is part of an eight prime value family.</p>\n",
    "</div>"
   ]
  },
  {
   "cell_type": "code",
   "execution_count": null,
   "metadata": {
    "collapsed": true
   },
   "outputs": [],
   "source": []
  },
  {
   "cell_type": "markdown",
   "metadata": {
    "collapsed": true
   },
   "source": [
    "<h2 style=\"color: #6b4e3d;\">Permuted multiples</h2>\n",
    "<div id=\"problem_info\" style=\"font-family: Consolas;\"><h3>Problem 52</h3></div>\n",
    "<div class=\"problem_content\" role=\"problem\" style='background-color: #fff; color: #111; padding: 20px;font-family: \"Segoe UI\", Arial, sans-serif; font-size: 110%;border: solid 1px #bbb; box-shadow: 5px 5px 5px #bbb;'>\n",
    "<p>It can be seen that the number, 125874, and its double, 251748, contain exactly the same digits, but in a different order.</p>\n",
    "<p>Find the smallest positive integer, <i>x</i>, such that 2<i>x</i>, 3<i>x</i>, 4<i>x</i>, 5<i>x</i>, and 6<i>x</i>, contain the same digits.</p>\n",
    "</div>"
   ]
  },
  {
   "cell_type": "code",
   "execution_count": null,
   "metadata": {
    "collapsed": true
   },
   "outputs": [],
   "source": []
  },
  {
   "cell_type": "markdown",
   "metadata": {
    "collapsed": true
   },
   "source": [
    "<h2 style=\"color: #6b4e3d;\">Combinatoric selections</h2>\n",
    "<div id=\"problem_info\" style=\"font-family: Consolas;\"><h3>Problem 53</h3></div>\n",
    "<div class=\"problem_content\" role=\"problem\" style='background-color: #fff; color: #111; padding: 20px;font-family: \"Segoe UI\", Arial, sans-serif; font-size: 110%;border: solid 1px #bbb; box-shadow: 5px 5px 5px #bbb;'>\n",
    "<p>There are exactly ten ways of selecting three from five, 12345:</p>\n",
    "<p style=\"text-align:center;\">123, 124, 125, 134, 135, 145, 234, 235, 245, and 345</p>\n",
    "<p>In combinatorics, we use the notation, $^{5}C_{3} = 10$.</p>\n",
    "<p>In general, $^{n}C_{r} = \\dfrac{n!}{r!(n-r)!}$, where $r \\le n$, $n! = n \\times (n-1) \\times ... \\times 3 \\times 2 \\times 1$, and $0! = 1$.\n",
    "</p>\n",
    "<p>It is not until $n = 23$, that a value exceeds one-million: $^{23}C_{10} = 1144066$.</p>\n",
    "<p>How many, not necessarily distinct, values of $^{n}C_{r}$ for $1 \\le n \\le 100$, are greater than one-million?</p>\n",
    "</div>"
   ]
  },
  {
   "cell_type": "code",
   "execution_count": null,
   "metadata": {
    "collapsed": true
   },
   "outputs": [],
   "source": []
  },
  {
   "cell_type": "markdown",
   "metadata": {
    "collapsed": true
   },
   "source": [
    "<h2 style=\"color: #6b4e3d;\">Poker hands</h2>\n",
    "<div id=\"problem_info\" style=\"font-family: Consolas;\"><h3>Problem 54</h3></div>\n",
    "<div class=\"problem_content\" role=\"problem\" style='background-color: #fff; color: #111; padding: 20px;font-family: \"Segoe UI\", Arial, sans-serif; font-size: 110%;border: solid 1px #bbb; box-shadow: 5px 5px 5px #bbb;'>\n",
    "<p>In the card game poker, a hand consists of five cards and are ranked, from lowest to highest, in the following way:</p>\n",
    "<ul><li><b>High Card</b>: Highest value card.</li>\n",
    "<li><b>One Pair</b>: Two cards of the same value.</li>\n",
    "<li><b>Two Pairs</b>: Two different pairs.</li>\n",
    "<li><b>Three of a Kind</b>: Three cards of the same value.</li>\n",
    "<li><b>Straight</b>: All cards are consecutive values.</li>\n",
    "<li><b>Flush</b>: All cards of the same suit.</li>\n",
    "<li><b>Full House</b>: Three of a kind and a pair.</li>\n",
    "<li><b>Four of a Kind</b>: Four cards of the same value.</li>\n",
    "<li><b>Straight Flush</b>: All cards are consecutive values of same suit.</li>\n",
    "<li><b>Royal Flush</b>: Ten, Jack, Queen, King, Ace, in same suit.</li>\n",
    "</ul><p>The cards are valued in the order:<br>2, 3, 4, 5, 6, 7, 8, 9, 10, Jack, Queen, King, Ace.</br></p>\n",
    "<p>If two players have the same ranked hands then the rank made up of the highest value wins; for example, a pair of eights beats a pair of fives (see example 1 below). But if two ranks tie, for example, both players have a pair of queens, then highest cards in each hand are compared (see example 4 below); if the highest cards tie then the next highest cards are compared, and so on.</p>\n",
    "<p>Consider the following five hands dealt to two players:</p>\n",
    "<div style=\"text-align:center;\">\n",
    "<table><tr><td><b>Hand</b></td><td> </td><td><b>Player 1</b></td><td> </td><td><b>Player 2</b></td><td> </td><td><b>Winner</b></td>\n",
    "</tr><tr><td style=\"vertical-align:top;\"><b>1</b></td><td> </td><td>5H 5C 6S 7S KD<br/><div class=\"note\">Pair of Fives</div></td><td> </td><td>2C 3S 8S 8D TD<br/><div class=\"note\">Pair of Eights</div></td><td> </td><td style=\"vertical-align:top;\">Player 2</td>\n",
    "</tr><tr><td style=\"vertical-align:top;\"><b>2</b></td><td> </td><td>5D 8C 9S JS AC<br/><div class=\"note\">Highest card Ace</div></td><td> </td><td>2C 5C 7D 8S QH<br/><div class=\"note\">Highest card Queen</div></td><td> </td><td style=\"vertical-align:top;\">Player 1</td>\n",
    "</tr><tr><td style=\"vertical-align:top;\"><b>3</b></td><td> </td><td>2D 9C AS AH AC<br/><div class=\"note\">Three Aces</div></td><td> </td><td>3D 6D 7D TD QD<br/><div class=\"note\">Flush  with Diamonds</div></td><td> </td><td style=\"vertical-align:top;\">Player 2</td>\n",
    "</tr><tr><td style=\"vertical-align:top;\"><b>4</b></td><td> </td><td>4D 6S 9H QH QC<br/><div class=\"note\">Pair of Queens<br/>Highest card Nine</div></td><td> </td><td>3D 6D 7H QD QS<br/><div class=\"note\">Pair of Queens<br/>Highest card Seven</div></td><td> </td><td style=\"vertical-align:top;\">Player 1</td>\n",
    "</tr><tr><td style=\"vertical-align:top;\"><b>5</b></td><td> </td><td>2H 2D 4C 4D 4S<br/><div class=\"note\">Full House<br/>With Three Fours</div></td><td> </td><td>3C 3D 3S 9S 9D<br/><div class=\"note\">Full House<br/>with Three Threes</div></td><td> </td><td style=\"vertical-align:top;\">Player 1</td>\n",
    "</tr></table></div>\n",
    "<p>The file, <a href=\"project/resources/p054_poker.txt\">poker.txt</a>, contains one-thousand random hands dealt to two players. Each line of the file contains ten cards (separated by a single space): the first five are Player 1's cards and the last five are Player 2's cards. You can assume that all hands are valid (no invalid characters or repeated cards), each player's hand is in no specific order, and in each hand there is a clear winner.</p>\n",
    "<p>How many hands does Player 1 win?</p>\n",
    "</div>"
   ]
  },
  {
   "cell_type": "code",
   "execution_count": null,
   "metadata": {
    "collapsed": true
   },
   "outputs": [],
   "source": []
  },
  {
   "cell_type": "markdown",
   "metadata": {
    "collapsed": true
   },
   "source": [
    "<h2 style=\"color: #6b4e3d;\">Lychrel numbers</h2>\n",
    "<div id=\"problem_info\" style=\"font-family: Consolas;\"><h3>Problem 55</h3></div>\n",
    "<div class=\"problem_content\" role=\"problem\" style='background-color: #fff; color: #111; padding: 20px;font-family: \"Segoe UI\", Arial, sans-serif; font-size: 110%;border: solid 1px #bbb; box-shadow: 5px 5px 5px #bbb;'>\n",
    "<p>If we take 47, reverse and add, 47 + 74 = 121, which is palindromic.</p>\n",
    "<p>Not all numbers produce palindromes so quickly. For example,</p>\n",
    "<p style=\"margin-left:50px;\">349 + 943 = 1292,<br>\n",
    "1292 + 2921 = 4213<br/>\n",
    "4213 + 3124 = 7337</br></p>\n",
    "<p>That is, 349 took three iterations to arrive at a palindrome.</p>\n",
    "<p>Although no one has proved it yet, it is thought that some numbers, like 196, never produce a palindrome. A number that never forms a palindrome through the reverse and add process is called a Lychrel number. Due to the theoretical nature of these numbers, and for the purpose of this problem, we shall assume that a number is Lychrel until proven otherwise. In addition you are given that for every number below ten-thousand, it will either (i) become a palindrome in less than fifty iterations, or, (ii) no one, with all the computing power that exists, has managed so far to map it to a palindrome. In fact, 10677 is the first number to be shown to require over fifty iterations before producing a palindrome: 4668731596684224866951378664 (53 iterations, 28-digits).</p>\n",
    "<p>Surprisingly, there are palindromic numbers that are themselves Lychrel numbers; the first example is 4994.</p>\n",
    "<p>How many Lychrel numbers are there below ten-thousand?</p>\n",
    "<p class=\"note\">NOTE: Wording was modified slightly on 24 April 2007 to emphasise the theoretical nature of Lychrel numbers.</p>\n",
    "</div>"
   ]
  },
  {
   "cell_type": "code",
   "execution_count": null,
   "metadata": {
    "collapsed": true
   },
   "outputs": [],
   "source": []
  },
  {
   "cell_type": "markdown",
   "metadata": {
    "collapsed": true
   },
   "source": [
    "<h2 style=\"color: #6b4e3d;\">Powerful digit sum</h2>\n",
    "<div id=\"problem_info\" style=\"font-family: Consolas;\"><h3>Problem 56</h3></div>\n",
    "<div class=\"problem_content\" role=\"problem\" style='background-color: #fff; color: #111; padding: 20px;font-family: \"Segoe UI\", Arial, sans-serif; font-size: 110%;border: solid 1px #bbb; box-shadow: 5px 5px 5px #bbb;'>\n",
    "<p>A googol (10<sup>100</sup>) is a massive number: one followed by one-hundred zeros; 100<sup>100</sup> is almost unimaginably large: one followed by two-hundred zeros. Despite their size, the sum of the digits in each number is only 1.</p>\n",
    "<p>Considering natural numbers of the form, <i>a<sup>b</sup></i>, where <i>a, b</i> &lt; 100, what is the maximum digital sum?</p>\n",
    "</div>"
   ]
  },
  {
   "cell_type": "code",
   "execution_count": null,
   "metadata": {
    "collapsed": true
   },
   "outputs": [],
   "source": []
  },
  {
   "cell_type": "markdown",
   "metadata": {
    "collapsed": true
   },
   "source": [
    "<h2 style=\"color: #6b4e3d;\">Square root convergents</h2>\n",
    "<div id=\"problem_info\" style=\"font-family: Consolas;\"><h3>Problem 57</h3></div>\n",
    "<div class=\"problem_content\" role=\"problem\" style='background-color: #fff; color: #111; padding: 20px;font-family: \"Segoe UI\", Arial, sans-serif; font-size: 110%;border: solid 1px #bbb; box-shadow: 5px 5px 5px #bbb;'>\n",
    "<p>It is possible to show that the square root of two can be expressed as an infinite continued fraction.</p>\n",
    "<p style=\"text-align:center;\">√ 2 = 1 + 1/(2 + 1/(2 + 1/(2 + ... ))) = 1.414213...</p>\n",
    "<p>By expanding this for the first four iterations, we get:</p>\n",
    "<p>1 + 1/2 = 3/2 = 1.5<br>\n",
    "1 + 1/(2 + 1/2) = 7/5 = 1.4<br/>\n",
    "1 + 1/(2 + 1/(2 + 1/2)) = 17/12 = 1.41666...<br/>\n",
    "1 + 1/(2 + 1/(2 + 1/(2 + 1/2))) = 41/29 = 1.41379...<br/></br></p>\n",
    "<p>The next three expansions are 99/70, 239/169, and 577/408, but the eighth expansion, 1393/985, is the first example where the number of digits in the numerator exceeds the number of digits in the denominator.</p>\n",
    "<p>In the first one-thousand expansions, how many fractions contain a numerator with more digits than denominator?</p>\n",
    "</div>"
   ]
  },
  {
   "cell_type": "code",
   "execution_count": null,
   "metadata": {
    "collapsed": true
   },
   "outputs": [],
   "source": []
  },
  {
   "cell_type": "markdown",
   "metadata": {
    "collapsed": true
   },
   "source": [
    "<h2 style=\"color: #6b4e3d;\">Spiral primes</h2>\n",
    "<div id=\"problem_info\" style=\"font-family: Consolas;\"><h3>Problem 58</h3></div>\n",
    "<div class=\"problem_content\" role=\"problem\" style='background-color: #fff; color: #111; padding: 20px;font-family: \"Segoe UI\", Arial, sans-serif; font-size: 110%;border: solid 1px #bbb; box-shadow: 5px 5px 5px #bbb;'>\n",
    "<p>Starting with 1 and spiralling anticlockwise in the following way, a square spiral with side length 7 is formed.</p>\n",
    "<p style=\"text-align:center;font-family:'courier new';\"><span style=\"color:#ff0000;font-family:'courier new';\"><b>37</b></span> 36 35 34 33 32 <span style=\"color:#ff0000;font-family:'courier new';\"><b>31</b></span><br>\n",
    "38 <span style=\"color:#ff0000;font-family:'courier new';\"><b>17</b></span> 16 15 14 <span style=\"color:#ff0000;font-family:'courier new';\"><b>13</b></span> 30<br/>\n",
    "39 18 <span style=\"color:#ff0000;font-family:'courier new';\"> <b>5</b></span>  4 <span style=\"color:#ff0000;font-family:'courier new';\"> <b>3</b></span> 12 29<br/>\n",
    "40 19  6  1  2 11 28<br/>\n",
    "41 20 <span style=\"color:#ff0000;font-family:'courier new';\"> <b>7</b></span>  8  9 10 27<br/>\n",
    "42 21 22 23 24 25 26<br/><span style=\"color:#ff0000;font-family:'courier new';\"><b>43</b></span> 44 45 46 47 48 49</br></p>\n",
    "<p>It is interesting to note that the odd squares lie along the bottom right diagonal, but what is more interesting is that 8 out of the 13 numbers lying along both diagonals are prime; that is, a ratio of 8/13 ≈ 62%.</p>\n",
    "<p>If one complete new layer is wrapped around the spiral above, a square spiral with side length 9 will be formed. If this process is continued, what is the side length of the square spiral for which the ratio of primes along both diagonals first falls below 10%?</p>\n",
    "</div>"
   ]
  },
  {
   "cell_type": "code",
   "execution_count": null,
   "metadata": {
    "collapsed": true
   },
   "outputs": [],
   "source": []
  },
  {
   "cell_type": "markdown",
   "metadata": {
    "collapsed": true
   },
   "source": [
    "<h2 style=\"color: #6b4e3d;\">XOR decryption</h2>\n",
    "<div id=\"problem_info\" style=\"font-family: Consolas;\"><h3>Problem 59</h3></div>\n",
    "<div class=\"problem_content\" role=\"problem\" style='background-color: #fff; color: #111; padding: 20px;font-family: \"Segoe UI\", Arial, sans-serif; font-size: 110%;border: solid 1px #bbb; box-shadow: 5px 5px 5px #bbb;'>\n",
    "<p>Each character on a computer is assigned a unique code and the preferred standard is ASCII (American Standard Code for Information Interchange). For example, uppercase A = 65, asterisk (*) = 42, and lowercase k = 107.</p>\n",
    "<p>A modern encryption method is to take a text file, convert the bytes to ASCII, then XOR each byte with a given value, taken from a secret key. The advantage with the XOR function is that using the same encryption key on the cipher text, restores the plain text; for example, 65 XOR 42 = 107, then 107 XOR 42 = 65.</p>\n",
    "<p>For unbreakable encryption, the key is the same length as the plain text message, and the key is made up of random bytes. The user would keep the encrypted message and the encryption key in different locations, and without both \"halves\", it is impossible to decrypt the message.</p>\n",
    "<p>Unfortunately, this method is impractical for most users, so the modified method is to use a password as a key. If the password is shorter than the message, which is likely, the key is repeated cyclically throughout the message. The balance for this method is using a sufficiently long password key for security, but short enough to be memorable.</p>\n",
    "<p>Your task has been made easy, as the encryption key consists of three lower case characters. Using <a href=\"project/resources/p059_cipher.txt\">p059_cipher.txt</a> (right click and 'Save Link/Target As...'), a file containing the encrypted ASCII codes, and the knowledge that the plain text must contain common English words, decrypt the message and find the sum of the ASCII values in the original text.</p>\n",
    "</div>"
   ]
  },
  {
   "cell_type": "code",
   "execution_count": null,
   "metadata": {
    "collapsed": true
   },
   "outputs": [],
   "source": []
  },
  {
   "cell_type": "markdown",
   "metadata": {
    "collapsed": true
   },
   "source": [
    "<h2 style=\"color: #6b4e3d;\">Prime pair sets</h2>\n",
    "<div id=\"problem_info\" style=\"font-family: Consolas;\"><h3>Problem 60</h3></div>\n",
    "<div class=\"problem_content\" role=\"problem\" style='background-color: #fff; color: #111; padding: 20px;font-family: \"Segoe UI\", Arial, sans-serif; font-size: 110%;border: solid 1px #bbb; box-shadow: 5px 5px 5px #bbb;'>\n",
    "<p>The primes 3, 7, 109, and 673, are quite remarkable. By taking any two primes and concatenating them in any order the result will always be prime. For example, taking 7 and 109, both 7109 and 1097 are prime. The sum of these four primes, 792, represents the lowest sum for a set of four primes with this property.</p>\n",
    "<p>Find the lowest sum for a set of five primes for which any two primes concatenate to produce another prime.</p>\n",
    "</div>"
   ]
  },
  {
   "cell_type": "code",
   "execution_count": null,
   "metadata": {
    "collapsed": true
   },
   "outputs": [],
   "source": []
  }
 ],
 "metadata": {
  "kernelspec": {
   "display_name": "Python (py36_euler)",
   "language": "python",
   "name": "py36_euler"
  },
  "language_info": {
   "codemirror_mode": {
    "name": "ipython",
    "version": 3
   },
   "file_extension": ".py",
   "mimetype": "text/x-python",
   "name": "python",
   "nbconvert_exporter": "python",
   "pygments_lexer": "ipython3",
   "version": "3.6.7"
  }
 },
 "nbformat": 4,
 "nbformat_minor": 2
}
