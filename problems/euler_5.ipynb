{
 "cells": [
  {
   "cell_type": "markdown",
   "metadata": {
    "collapsed": true
   },
   "source": [
    "<div style=\"text-align:center;\">\n",
    "<img alt=\"\" <img src=\"./images/logo_default.png\"/><br/>\n",
    "</div>"
   ]
  },
  {
   "cell_type": "code",
   "execution_count": null,
   "metadata": {},
   "outputs": [],
   "source": []
  },
  {
   "cell_type": "markdown",
   "metadata": {
    "collapsed": true
   },
   "source": [
    "<h2 style=\"color: #6b4e3d;\">Pandigital prime</h2>\n",
    "<div id=\"problem_info\" style=\"font-family: Consolas;\"><h3>Problem 41</h3></div>\n",
    "<div class=\"problem_content\" role=\"problem\" style='background-color: #fff; color: #111; padding: 20px;font-family: \"Segoe UI\", Arial, sans-serif; font-size: 110%;border: solid 1px #bbb; box-shadow: 5px 5px 5px #bbb;'>\n",
    "<p>We shall say that an <i>n</i>-digit number is pandigital if it makes use of all the digits 1 to <i>n</i> exactly once. For example, 2143 is a 4-digit pandigital and is also prime.</p>\n",
    "<p>What is the largest <i>n</i>-digit pandigital prime that exists?</p>\n",
    "</div>"
   ]
  },
  {
   "cell_type": "code",
   "execution_count": null,
   "metadata": {
    "collapsed": true
   },
   "outputs": [],
   "source": []
  },
  {
   "cell_type": "markdown",
   "metadata": {
    "collapsed": true
   },
   "source": [
    "<h2 style=\"color: #6b4e3d;\">Coded triangle numbers</h2>\n",
    "<div id=\"problem_info\" style=\"font-family: Consolas;\"><h3>Problem 42</h3></div>\n",
    "<div class=\"problem_content\" role=\"problem\" style='background-color: #fff; color: #111; padding: 20px;font-family: \"Segoe UI\", Arial, sans-serif; font-size: 110%;border: solid 1px #bbb; box-shadow: 5px 5px 5px #bbb;'>\n",
    "<p>The <i>n</i><sup>th</sup> term of the sequence of triangle numbers is given by, <i>t<sub>n</sub></i> = ½<i>n</i>(<i>n</i>+1); so the first ten triangle numbers are:</p>\n",
    "<p style=\"text-align:center;\">1, 3, 6, 10, 15, 21, 28, 36, 45, 55, ...</p>\n",
    "<p>By converting each letter in a word to a number corresponding to its alphabetical position and adding these values we form a word value. For example, the word value for SKY is 19 + 11 + 25 = 55 = <i>t</i><sub>10</sub>. If the word value is a triangle number then we shall call the word a triangle word.</p>\n",
    "<p>Using <a href=\"project/resources/p042_words.txt\">words.txt</a> (right click and 'Save Link/Target As...'), a 16K text file containing nearly two-thousand common English words, how many are triangle words?</p>\n",
    "</div>"
   ]
  },
  {
   "cell_type": "code",
   "execution_count": null,
   "metadata": {
    "collapsed": true
   },
   "outputs": [],
   "source": []
  },
  {
   "cell_type": "markdown",
   "metadata": {
    "collapsed": true
   },
   "source": [
    "<h2 style=\"color: #6b4e3d;\">Sub-string divisibility</h2>\n",
    "<div id=\"problem_info\" style=\"font-family: Consolas;\"><h3>Problem 43</h3></div>\n",
    "<div class=\"problem_content\" role=\"problem\" style='background-color: #fff; color: #111; padding: 20px;font-family: \"Segoe UI\", Arial, sans-serif; font-size: 110%;border: solid 1px #bbb; box-shadow: 5px 5px 5px #bbb;'>\n",
    "<p>The number, 1406357289, is a 0 to 9 pandigital number because it is made up of each of the digits 0 to 9 in some order, but it also has a rather interesting sub-string divisibility property.</p>\n",
    "<p>Let <i>d</i><sub>1</sub> be the 1<sup>st</sup> digit, <i>d</i><sub>2</sub> be the 2<sup>nd</sup> digit, and so on. In this way, we note the following:</p>\n",
    "<ul><li><i>d</i><sub>2</sub><i>d</i><sub>3</sub><i>d</i><sub>4</sub>=406 is divisible by 2</li>\n",
    "<li><i>d</i><sub>3</sub><i>d</i><sub>4</sub><i>d</i><sub>5</sub>=063 is divisible by 3</li>\n",
    "<li><i>d</i><sub>4</sub><i>d</i><sub>5</sub><i>d</i><sub>6</sub>=635 is divisible by 5</li>\n",
    "<li><i>d</i><sub>5</sub><i>d</i><sub>6</sub><i>d</i><sub>7</sub>=357 is divisible by 7</li>\n",
    "<li><i>d</i><sub>6</sub><i>d</i><sub>7</sub><i>d</i><sub>8</sub>=572 is divisible by 11</li>\n",
    "<li><i>d</i><sub>7</sub><i>d</i><sub>8</sub><i>d</i><sub>9</sub>=728 is divisible by 13</li>\n",
    "<li><i>d</i><sub>8</sub><i>d</i><sub>9</sub><i>d</i><sub>10</sub>=289 is divisible by 17</li>\n",
    "</ul><p>Find the sum of all 0 to 9 pandigital numbers with this property.</p>\n",
    "</div>"
   ]
  },
  {
   "cell_type": "code",
   "execution_count": null,
   "metadata": {
    "collapsed": true
   },
   "outputs": [],
   "source": []
  },
  {
   "cell_type": "markdown",
   "metadata": {
    "collapsed": true
   },
   "source": [
    "<h2 style=\"color: #6b4e3d;\">Pentagon numbers</h2>\n",
    "<div id=\"problem_info\" style=\"font-family: Consolas;\"><h3>Problem 44</h3></div>\n",
    "<div class=\"problem_content\" role=\"problem\" style='background-color: #fff; color: #111; padding: 20px;font-family: \"Segoe UI\", Arial, sans-serif; font-size: 110%;border: solid 1px #bbb; box-shadow: 5px 5px 5px #bbb;'>\n",
    "<p>Pentagonal numbers are generated by the formula, P<sub><var>n</var></sub>=<var>n</var>(3<var>n</var>−1)/2. The first ten pentagonal numbers are:</p>\n",
    "<p style=\"text-align:center;\">1, 5, 12, 22, 35, 51, 70, 92, 117, 145, ...</p>\n",
    "<p>It can be seen that P<sub>4</sub> + P<sub>7</sub> = 22 + 70 = 92 = P<sub>8</sub>. However, their difference, 70 − 22 = 48, is not pentagonal.</p>\n",
    "<p>Find the pair of pentagonal numbers, P<sub><var>j</var></sub> and P<sub><var>k</var></sub>, for which their sum and difference are pentagonal and D = |P<sub><var>k</var></sub> − P<sub><var>j</var></sub>| is minimised; what is the value of D?</p>\n",
    "</div>"
   ]
  },
  {
   "cell_type": "code",
   "execution_count": null,
   "metadata": {
    "collapsed": true
   },
   "outputs": [],
   "source": []
  },
  {
   "cell_type": "markdown",
   "metadata": {
    "collapsed": true
   },
   "source": [
    "<h2 style=\"color: #6b4e3d;\">Triangular, pentagonal, and hexagonal</h2>\n",
    "<div id=\"problem_info\" style=\"font-family: Consolas;\"><h3>Problem 45</h3></div>\n",
    "<div class=\"problem_content\" role=\"problem\" style='background-color: #fff; color: #111; padding: 20px;font-family: \"Segoe UI\", Arial, sans-serif; font-size: 110%;border: solid 1px #bbb; box-shadow: 5px 5px 5px #bbb;'>\n",
    "<p>Triangle, pentagonal, and hexagonal numbers are generated by the following formulae:</p>\n",
    "<table><tr><td>Triangle</td>\n",
    "<td> </td>\n",
    "<td>T<sub><i>n</i></sub>=<i>n</i>(<i>n</i>+1)/2</td>\n",
    "<td> </td>\n",
    "<td>1, 3, 6, 10, 15, ...</td>\n",
    "</tr><tr><td>Pentagonal</td>\n",
    "<td> </td>\n",
    "<td>P<sub><i>n</i></sub>=<i>n</i>(3<i>n</i>−1)/2</td>\n",
    "<td> </td>\n",
    "<td>1, 5, 12, 22, 35, ...</td>\n",
    "</tr><tr><td>Hexagonal</td>\n",
    "<td> </td>\n",
    "<td>H<sub><i>n</i></sub>=<i>n</i>(2<i>n</i>−1)</td>\n",
    "<td> </td>\n",
    "<td>1, 6, 15, 28, 45, ...</td>\n",
    "</tr></table><p>It can be verified that T<sub>285</sub> = P<sub>165</sub> = H<sub>143</sub> = 40755.</p>\n",
    "<p>Find the next triangle number that is also pentagonal and hexagonal.</p>\n",
    "</div>"
   ]
  },
  {
   "cell_type": "code",
   "execution_count": null,
   "metadata": {
    "collapsed": true
   },
   "outputs": [],
   "source": []
  },
  {
   "cell_type": "markdown",
   "metadata": {
    "collapsed": true
   },
   "source": [
    "<h2 style=\"color: #6b4e3d;\">Goldbach's other conjecture</h2>\n",
    "<div id=\"problem_info\" style=\"font-family: Consolas;\"><h3>Problem 46</h3></div>\n",
    "<div class=\"problem_content\" role=\"problem\" style='background-color: #fff; color: #111; padding: 20px;font-family: \"Segoe UI\", Arial, sans-serif; font-size: 110%;border: solid 1px #bbb; box-shadow: 5px 5px 5px #bbb;'>\n",
    "<p>It was proposed by Christian Goldbach that every odd composite number can be written as the sum of a prime and twice a square.</p>\n",
    "<p style=\"margin-left:10px;\">9 = 7 + 2×1<sup>2</sup><br>\n",
    "15 = 7 + 2×2<sup>2</sup><br/>\n",
    "21 = 3 + 2×3<sup>2</sup><br/>\n",
    "25 = 7 + 2×3<sup>2</sup><br/>\n",
    "27 = 19 + 2×2<sup>2</sup><br/>\n",
    "33 = 31 + 2×1<sup>2</sup></br></p>\n",
    "<p>It turns out that the conjecture was false.</p>\n",
    "<p>What is the smallest odd composite that cannot be written as the sum of a prime and twice a square?</p>\n",
    "</div>"
   ]
  },
  {
   "cell_type": "code",
   "execution_count": null,
   "metadata": {
    "collapsed": true
   },
   "outputs": [],
   "source": []
  },
  {
   "cell_type": "markdown",
   "metadata": {
    "collapsed": true
   },
   "source": [
    "<h2 style=\"color: #6b4e3d;\">Distinct primes factors</h2>\n",
    "<div id=\"problem_info\" style=\"font-family: Consolas;\"><h3>Problem 47</h3></div>\n",
    "<div class=\"problem_content\" role=\"problem\" style='background-color: #fff; color: #111; padding: 20px;font-family: \"Segoe UI\", Arial, sans-serif; font-size: 110%;border: solid 1px #bbb; box-shadow: 5px 5px 5px #bbb;'>\n",
    "<p>The first two consecutive numbers to have two distinct prime factors are:</p>\n",
    "<p style=\"margin-left:100px;\">14 = 2 × 7<br>15 = 3 × 5</br></p>\n",
    "<p>The first three consecutive numbers to have three distinct prime factors are:</p>\n",
    "<p style=\"margin-left:100px;\">644 = 2² × 7 × 23<br/>645 = 3 × 5 × 43<br/>646 = 2 × 17 × 19.</p>\n",
    "<p>Find the first four consecutive integers to have four distinct prime factors each. What is the first of these numbers?</p>\n",
    "</div>"
   ]
  },
  {
   "cell_type": "code",
   "execution_count": null,
   "metadata": {
    "collapsed": true
   },
   "outputs": [],
   "source": []
  },
  {
   "cell_type": "markdown",
   "metadata": {
    "collapsed": true
   },
   "source": [
    "<h2 style=\"color: #6b4e3d;\">Self powers</h2>\n",
    "<div id=\"problem_info\" style=\"font-family: Consolas;\"><h3>Problem 48</h3></div>\n",
    "<div class=\"problem_content\" role=\"problem\" style='background-color: #fff; color: #111; padding: 20px;font-family: \"Segoe UI\", Arial, sans-serif; font-size: 110%;border: solid 1px #bbb; box-shadow: 5px 5px 5px #bbb;'>\n",
    "<p>The series, 1<sup>1</sup> + 2<sup>2</sup> + 3<sup>3</sup> + ... + 10<sup>10</sup> = 10405071317.</p>\n",
    "<p>Find the last ten digits of the series, 1<sup>1</sup> + 2<sup>2</sup> + 3<sup>3</sup> + ... + 1000<sup>1000</sup>.</p>\n",
    "</div>"
   ]
  },
  {
   "cell_type": "code",
   "execution_count": null,
   "metadata": {
    "collapsed": true
   },
   "outputs": [],
   "source": []
  },
  {
   "cell_type": "markdown",
   "metadata": {
    "collapsed": true
   },
   "source": [
    "<h2 style=\"color: #6b4e3d;\">Prime permutations</h2>\n",
    "<div id=\"problem_info\" style=\"font-family: Consolas;\"><h3>Problem 49</h3></div>\n",
    "<div class=\"problem_content\" role=\"problem\" style='background-color: #fff; color: #111; padding: 20px;font-family: \"Segoe UI\", Arial, sans-serif; font-size: 110%;border: solid 1px #bbb; box-shadow: 5px 5px 5px #bbb;'>\n",
    "<p>The arithmetic sequence, 1487, 4817, 8147, in which each of the terms increases by 3330, is unusual in two ways: (i) each of the three terms are prime, and, (ii) each of the 4-digit numbers are permutations of one another.</p>\n",
    "<p>There are no arithmetic sequences made up of three 1-, 2-, or 3-digit primes, exhibiting this property, but there is one other 4-digit increasing sequence.</p>\n",
    "<p>What 12-digit number do you form by concatenating the three terms in this sequence?</p>\n",
    "</div>"
   ]
  },
  {
   "cell_type": "code",
   "execution_count": null,
   "metadata": {
    "collapsed": true
   },
   "outputs": [],
   "source": []
  },
  {
   "cell_type": "markdown",
   "metadata": {
    "collapsed": true
   },
   "source": [
    "<h2 style=\"color: #6b4e3d;\">Consecutive prime sum</h2>\n",
    "<div id=\"problem_info\" style=\"font-family: Consolas;\"><h3>Problem 50</h3></div>\n",
    "<div class=\"problem_content\" role=\"problem\" style='background-color: #fff; color: #111; padding: 20px;font-family: \"Segoe UI\", Arial, sans-serif; font-size: 110%;border: solid 1px #bbb; box-shadow: 5px 5px 5px #bbb;'>\n",
    "<p>The prime 41, can be written as the sum of six consecutive primes:</p>\n",
    "<div style=\"text-align:center;\">41 = 2 + 3 + 5 + 7 + 11 + 13</div>\n",
    "<p>This is the longest sum of consecutive primes that adds to a prime below one-hundred.</p>\n",
    "<p>The longest sum of consecutive primes below one-thousand that adds to a prime, contains 21 terms, and is equal to 953.</p>\n",
    "<p>Which prime, below one-million, can be written as the sum of the most consecutive primes?</p>\n",
    "</div>"
   ]
  },
  {
   "cell_type": "code",
   "execution_count": null,
   "metadata": {
    "collapsed": true
   },
   "outputs": [],
   "source": []
  }
 ],
 "metadata": {
  "kernelspec": {
   "display_name": "Python (py36_euler)",
   "language": "python",
   "name": "py36_euler"
  },
  "language_info": {
   "codemirror_mode": {
    "name": "ipython",
    "version": 3
   },
   "file_extension": ".py",
   "mimetype": "text/x-python",
   "name": "python",
   "nbconvert_exporter": "python",
   "pygments_lexer": "ipython3",
   "version": "3.6.7"
  }
 },
 "nbformat": 4,
 "nbformat_minor": 2
}
