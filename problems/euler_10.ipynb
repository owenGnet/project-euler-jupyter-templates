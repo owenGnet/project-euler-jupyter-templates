{
 "cells": [
  {
   "cell_type": "markdown",
   "metadata": {
    "collapsed": true
   },
   "source": [
    "<div style=\"text-align:center;\">\n",
    "<img alt=\"\" <img src=\"./images/logo_default.png\"/><br/>\n",
    "</div>"
   ]
  },
  {
   "cell_type": "code",
   "execution_count": null,
   "metadata": {},
   "outputs": [],
   "source": []
  },
  {
   "cell_type": "markdown",
   "metadata": {
    "collapsed": true
   },
   "source": [
    "<h2 style=\"color: #6b4e3d;\">Right triangles with integer coordinates</h2>\n",
    "<div id=\"problem_info\" style=\"font-family: Consolas;\"><h3>Problem 91</h3></div>\n",
    "<div class=\"problem_content\" role=\"problem\" style='background-color: #fff; color: #111; padding: 20px;font-family: \"Segoe UI\", Arial, sans-serif; font-size: 110%;border: solid 1px #bbb; box-shadow: 5px 5px 5px #bbb;'>\n",
    "<p>The points P (<i>x</i><sub>1</sub>, <i>y</i><sub>1</sub>) and Q (<i>x</i><sub>2</sub>, <i>y</i><sub>2</sub>) are plotted at integer co-ordinates and are joined to the origin, O(0,0), to form ΔOPQ.</p>\n",
    "<div style=\"text-align:center;\">\n",
    "<img alt=\"\" class=\"dark_img\" <img src=\"./images/p091_1.png\"/><br/></div>\n",
    "<p>There are exactly fourteen triangles containing a right angle that can be formed when each co-ordinate lies between 0 and 2 inclusive; that is,<br/>0 ≤ <i>x</i><sub>1</sub>, <i>y</i><sub>1</sub>, <i>x</i><sub>2</sub>, <i>y</i><sub>2</sub> ≤ 2.</p>\n",
    "<div style=\"text-align:center;\">\n",
    "<img alt=\"\" <img src=\"./images/p091_2.png\"/><br/></div>\n",
    "<p>Given that 0 ≤ <i>x</i><sub>1</sub>, <i>y</i><sub>1</sub>, <i>x</i><sub>2</sub>, <i>y</i><sub>2</sub> ≤ 50, how many right triangles can be formed?</p>\n",
    "</div>"
   ]
  },
  {
   "cell_type": "code",
   "execution_count": null,
   "metadata": {
    "collapsed": true
   },
   "outputs": [],
   "source": []
  },
  {
   "cell_type": "markdown",
   "metadata": {
    "collapsed": true
   },
   "source": [
    "<h2 style=\"color: #6b4e3d;\">Square digit chains</h2>\n",
    "<div id=\"problem_info\" style=\"font-family: Consolas;\"><h3>Problem 92</h3></div>\n",
    "<div class=\"problem_content\" role=\"problem\" style='background-color: #fff; color: #111; padding: 20px;font-family: \"Segoe UI\", Arial, sans-serif; font-size: 110%;border: solid 1px #bbb; box-shadow: 5px 5px 5px #bbb;'>\n",
    "<p>A number chain is created by continuously adding the square of the digits in a number to form a new number until it has been seen before.</p>\n",
    "<p>For example,</p>\n",
    "<p style=\"margin-left:50px;\">44 → 32 → 13 → 10 → <b>1</b> → <b>1</b><br>\n",
    "85 → <b>89</b> → 145 → 42 → 20 → 4 → 16 → 37 → 58 → <b>89</b></br></p>\n",
    "<p>Therefore any chain that arrives at 1 or 89 will become stuck in an endless loop. What is most amazing is that EVERY starting number will eventually arrive at 1 or 89.</p>\n",
    "<p>How many starting numbers below ten million will arrive at 89?</p>\n",
    "</div>"
   ]
  },
  {
   "cell_type": "code",
   "execution_count": null,
   "metadata": {
    "collapsed": true
   },
   "outputs": [],
   "source": []
  },
  {
   "cell_type": "markdown",
   "metadata": {
    "collapsed": true
   },
   "source": [
    "<h2 style=\"color: #6b4e3d;\">Arithmetic expressions</h2>\n",
    "<div id=\"problem_info\" style=\"font-family: Consolas;\"><h3>Problem 93</h3></div>\n",
    "<div class=\"problem_content\" role=\"problem\" style='background-color: #fff; color: #111; padding: 20px;font-family: \"Segoe UI\", Arial, sans-serif; font-size: 110%;border: solid 1px #bbb; box-shadow: 5px 5px 5px #bbb;'>\n",
    "<p>By using each of the digits from the set, {1, 2, 3, 4}, exactly once, and making use of the four arithmetic operations (+, −, *, /) and brackets/parentheses, it is possible to form different positive integer targets.</p>\n",
    "<p>For example,</p>\n",
    "<p style=\"margin-left:50px;font-family:'courier new';\">8 = (4 * (1 + 3)) / 2<br>\n",
    "14 = 4 * (3 + 1 / 2)<br/>\n",
    "19 = 4 * (2 + 3) − 1<br/>\n",
    "36 = 3 * 4 * (2 + 1)</br></p>\n",
    "<p>Note that concatenations of the digits, like 12 + 34, are not allowed.</p>\n",
    "<p>Using the set, {1, 2, 3, 4}, it is possible to obtain thirty-one different target numbers of which 36 is the maximum, and each of the numbers 1 to 28 can be obtained before encountering the first non-expressible number.</p>\n",
    "<p>Find the set of four distinct digits, <i>a</i> &lt; <i>b</i> &lt; <i>c</i> &lt; <i>d</i>, for which the longest set of consecutive positive integers, 1 to <i>n</i>, can be obtained, giving your answer as a string: <i>abcd</i>.</p>\n",
    "</div>"
   ]
  },
  {
   "cell_type": "code",
   "execution_count": null,
   "metadata": {
    "collapsed": true
   },
   "outputs": [],
   "source": []
  },
  {
   "cell_type": "markdown",
   "metadata": {
    "collapsed": true
   },
   "source": [
    "<h2 style=\"color: #6b4e3d;\">Almost equilateral triangles</h2>\n",
    "<div id=\"problem_info\" style=\"font-family: Consolas;\"><h3>Problem 94</h3></div>\n",
    "<div class=\"problem_content\" role=\"problem\" style='background-color: #fff; color: #111; padding: 20px;font-family: \"Segoe UI\", Arial, sans-serif; font-size: 110%;border: solid 1px #bbb; box-shadow: 5px 5px 5px #bbb;'>\n",
    "<p>It is easily proved that no equilateral triangle exists with integral length sides and integral area. However, the <i>almost equilateral triangle</i> 5-5-6 has an area of 12 square units.</p>\n",
    "<p>We shall define an <i>almost equilateral triangle</i> to be a triangle for which two sides are equal and the third differs by no more than one unit.</p>\n",
    "<p>Find the sum of the perimeters of all <i>almost equilateral triangles</i> with integral side lengths and area and whose perimeters do not exceed one billion (1,000,000,000).</p>\n",
    "</div>"
   ]
  },
  {
   "cell_type": "code",
   "execution_count": null,
   "metadata": {
    "collapsed": true
   },
   "outputs": [],
   "source": []
  },
  {
   "cell_type": "markdown",
   "metadata": {
    "collapsed": true
   },
   "source": [
    "<h2 style=\"color: #6b4e3d;\">Amicable chains</h2>\n",
    "<div id=\"problem_info\" style=\"font-family: Consolas;\"><h3>Problem 95</h3></div>\n",
    "<div class=\"problem_content\" role=\"problem\" style='background-color: #fff; color: #111; padding: 20px;font-family: \"Segoe UI\", Arial, sans-serif; font-size: 110%;border: solid 1px #bbb; box-shadow: 5px 5px 5px #bbb;'>\n",
    "<p>The proper divisors of a number are all the divisors excluding the number itself. For example, the proper divisors of 28 are 1, 2, 4, 7, and 14. As the sum of these divisors is equal to 28, we call it a perfect number.</p>\n",
    "<p>Interestingly the sum of the proper divisors of 220 is 284 and the sum of the proper divisors of 284 is 220, forming a chain of two numbers. For this reason, 220 and 284 are called an amicable pair.</p>\n",
    "<p>Perhaps less well known are longer chains. For example, starting with 12496, we form a chain of five numbers:</p>\n",
    "<p style=\"text-align:center;\">12496 → 14288 → 15472 → 14536 → 14264 (→ 12496 → ...)</p>\n",
    "<p>Since this chain returns to its starting point, it is called an amicable chain.</p>\n",
    "<p>Find the smallest member of the longest amicable chain with no element exceeding one million.</p>\n",
    "</div>"
   ]
  },
  {
   "cell_type": "code",
   "execution_count": null,
   "metadata": {
    "collapsed": true
   },
   "outputs": [],
   "source": []
  },
  {
   "cell_type": "markdown",
   "metadata": {
    "collapsed": true
   },
   "source": [
    "<h2 style=\"color: #6b4e3d;\">Su Doku</h2>\n",
    "<div id=\"problem_info\" style=\"font-family: Consolas;\"><h3>Problem 96</h3></div>\n",
    "<div class=\"problem_content\" role=\"problem\" style='background-color: #fff; color: #111; padding: 20px;font-family: \"Segoe UI\", Arial, sans-serif; font-size: 110%;border: solid 1px #bbb; box-shadow: 5px 5px 5px #bbb;'>\n",
    "<p>Su Doku (Japanese meaning <i>number place</i>) is the name given to a popular puzzle concept. Its origin is unclear, but credit must be attributed to Leonhard Euler who invented a similar, and much more difficult, puzzle idea called Latin Squares. The objective of Su Doku puzzles, however, is to replace the blanks (or zeros) in a 9 by 9 grid in such that each row, column, and 3 by 3 box contains each of the digits 1 to 9. Below is an example of a typical starting puzzle grid and its solution grid.</p>\n",
    "<div style=\"text-align:center;\">\n",
    "<table align=\"center\" border=\"0\" cellpadding=\"0\" cellspacing=\"0\"><tr><td>\n",
    "<table border=\"1\" cellpadding=\"5\" cellspacing=\"0\"><tr><td style=\"font-family:'courier new';font-size:14pt;\">0 0 3<br>9 0 0<br/>0 0 1</br></td>\n",
    "<td style=\"font-family:'courier new';font-size:14pt;\">0 2 0<br/>3 0 5<br/>8 0 6</td>\n",
    "<td style=\"font-family:'courier new';font-size:14pt;\">6 0 0<br/>0 0 1<br/>4 0 0</td>\n",
    "</tr><tr><td style=\"font-family:'courier new';font-size:14pt;\">0 0 8<br/>7 0 0<br/>0 0 6</td>\n",
    "<td style=\"font-family:'courier new';font-size:14pt;\">1 0 2<br/>0 0 0<br/>7 0 8</td>\n",
    "<td style=\"font-family:'courier new';font-size:14pt;\">9 0 0<br/>0 0 8<br/>2 0 0</td>\n",
    "</tr><tr><td style=\"font-family:'courier new';font-size:14pt;\">0 0 2<br/>8 0 0<br/>0 0 5</td>\n",
    "<td style=\"font-family:'courier new';font-size:14pt;\">6 0 9<br/>2 0 3<br/>0 1 0</td>\n",
    "<td style=\"font-family:'courier new';font-size:14pt;\">5 0 0<br/>0 0 9<br/>3 0 0</td>\n",
    "</tr></table></td>\n",
    "<td width=\"50\"><img alt=\"\" height=\"1\" src=\"images/spacer.gif\" width=\"50\"/><br/></td>\n",
    "<td>\n",
    "<table border=\"1\" cellpadding=\"5\" cellspacing=\"0\"><tr><td style=\"font-family:'courier new';font-size:14pt;\">4 8 3<br/>9 6 7<br/>2 5 1</td>\n",
    "<td style=\"font-family:'courier new';font-size:14pt;\">9 2 1<br/>3 4 5<br/>8 7 6</td>\n",
    "<td style=\"font-family:'courier new';font-size:14pt;\">6 5 7<br/>8 2 1<br/>4 9 3</td>\n",
    "</tr><tr><td style=\"font-family:'courier new';font-size:14pt;\">5 4 8<br/>7 2 9<br/>1 3 6</td>\n",
    "<td style=\"font-family:'courier new';font-size:14pt;\">1 3 2<br/>5 6 4<br/>7 9 8</td>\n",
    "<td style=\"font-family:'courier new';font-size:14pt;\">9 7 6<br/>1 3 8<br/>2 4 5</td>\n",
    "</tr><tr><td style=\"font-family:'courier new';font-size:14pt;\">3 7 2<br/>8 1 4<br/>6 9 5</td>\n",
    "<td style=\"font-family:'courier new';font-size:14pt;\">6 8 9<br/>2 5 3<br/>4 1 7</td>\n",
    "<td style=\"font-family:'courier new';font-size:14pt;\">5 1 4<br/>7 6 9<br/>3 8 2</td>\n",
    "</tr></table></td>\n",
    "</tr></table></div>\n",
    "<p>A well constructed Su Doku puzzle has a unique solution and can be solved by logic, although it may be necessary to employ \"guess and test\" methods in order to eliminate options (there is much contested opinion over this). The complexity of the search determines the difficulty of the puzzle; the example above is considered <i>easy</i> because it can be solved by straight forward direct deduction.</p>\n",
    "<p>The 6K text file, <a href=\"project/resources/p096_sudoku.txt\">sudoku.txt</a> (right click and 'Save Link/Target As...'), contains fifty different Su Doku puzzles ranging in difficulty, but all with unique solutions (the first puzzle in the file is the example above).</p>\n",
    "<p>By solving all fifty puzzles find the sum of the 3-digit numbers found in the top left corner of each solution grid; for example, 483 is the 3-digit number found in the top left corner of the solution grid above.</p>\n",
    "</div>"
   ]
  },
  {
   "cell_type": "code",
   "execution_count": null,
   "metadata": {
    "collapsed": true
   },
   "outputs": [],
   "source": []
  },
  {
   "cell_type": "markdown",
   "metadata": {
    "collapsed": true
   },
   "source": [
    "<h2 style=\"color: #6b4e3d;\">Large non-Mersenne prime</h2>\n",
    "<div id=\"problem_info\" style=\"font-family: Consolas;\"><h3>Problem 97</h3></div>\n",
    "<div class=\"problem_content\" role=\"problem\" style='background-color: #fff; color: #111; padding: 20px;font-family: \"Segoe UI\", Arial, sans-serif; font-size: 110%;border: solid 1px #bbb; box-shadow: 5px 5px 5px #bbb;'>\n",
    "<p>The first known prime found to exceed one million digits was discovered in 1999, and is a Mersenne prime of the form 2<sup>6972593</sup>−1; it contains exactly 2,098,960 digits. Subsequently other Mersenne primes, of the form 2<sup><i>p</i></sup>−1, have been found which contain more digits.</p>\n",
    "<p>However, in 2004 there was found a massive non-Mersenne prime which contains 2,357,207 digits: 28433×2<sup>7830457</sup>+1.</p>\n",
    "<p>Find the last ten digits of this prime number.</p>\n",
    "</div>"
   ]
  },
  {
   "cell_type": "code",
   "execution_count": null,
   "metadata": {
    "collapsed": true
   },
   "outputs": [],
   "source": []
  },
  {
   "cell_type": "markdown",
   "metadata": {
    "collapsed": true
   },
   "source": [
    "<h2 style=\"color: #6b4e3d;\">Anagramic squares</h2>\n",
    "<div id=\"problem_info\" style=\"font-family: Consolas;\"><h3>Problem 98</h3></div>\n",
    "<div class=\"problem_content\" role=\"problem\" style='background-color: #fff; color: #111; padding: 20px;font-family: \"Segoe UI\", Arial, sans-serif; font-size: 110%;border: solid 1px #bbb; box-shadow: 5px 5px 5px #bbb;'>\n",
    "<p>By replacing each of the letters in the word CARE with 1, 2, 9, and 6 respectively, we form a square number: 1296 = 36<sup>2</sup>. What is remarkable is that, by using the same digital substitutions, the anagram, RACE, also forms a square number: 9216 = 96<sup>2</sup>. We shall call CARE (and RACE) a square anagram word pair and specify further that leading zeroes are not permitted, neither may a different letter have the same digital value as another letter.</p>\n",
    "<p>Using <a href=\"project/resources/p098_words.txt\">words.txt</a> (right click and 'Save Link/Target As...'), a 16K text file containing nearly two-thousand common English words, find all the square anagram word pairs (a palindromic word is NOT considered to be an anagram of itself).</p>\n",
    "<p>What is the largest square number formed by any member of such a pair?</p>\n",
    "<p class=\"info\">NOTE: All anagrams formed must be contained in the given text file.</p>\n",
    "</div>"
   ]
  },
  {
   "cell_type": "code",
   "execution_count": null,
   "metadata": {
    "collapsed": true
   },
   "outputs": [],
   "source": []
  },
  {
   "cell_type": "markdown",
   "metadata": {
    "collapsed": true
   },
   "source": [
    "<h2 style=\"color: #6b4e3d;\">Largest exponential</h2>\n",
    "<div id=\"problem_info\" style=\"font-family: Consolas;\"><h3>Problem 99</h3></div>\n",
    "<div class=\"problem_content\" role=\"problem\" style='background-color: #fff; color: #111; padding: 20px;font-family: \"Segoe UI\", Arial, sans-serif; font-size: 110%;border: solid 1px #bbb; box-shadow: 5px 5px 5px #bbb;'>\n",
    "<p>Comparing two numbers written in index form like 2<sup>11</sup> and 3<sup>7</sup> is not difficult, as any calculator would confirm that 2<sup>11</sup> = 2048 &lt; 3<sup>7</sup> = 2187.</p>\n",
    "<p>However, confirming that 632382<sup>518061</sup> &gt; 519432<sup>525806</sup> would be much more difficult, as both numbers contain over three million digits.</p>\n",
    "<p>Using <a href=\"project/resources/p099_base_exp.txt\">base_exp.txt</a> (right click and 'Save Link/Target As...'), a 22K text file containing one thousand lines with a base/exponent pair on each line, determine which line number has the greatest numerical value.</p>\n",
    "<p class=\"info\">NOTE: The first two lines in the file represent the numbers in the example given above.</p>\n",
    "</div>"
   ]
  },
  {
   "cell_type": "code",
   "execution_count": null,
   "metadata": {
    "collapsed": true
   },
   "outputs": [],
   "source": []
  },
  {
   "cell_type": "markdown",
   "metadata": {
    "collapsed": true
   },
   "source": [
    "<h2 style=\"color: #6b4e3d;\">Arranged probability</h2>\n",
    "<div id=\"problem_info\" style=\"font-family: Consolas;\"><h3>Problem 100</h3></div>\n",
    "<div class=\"problem_content\" role=\"problem\" style='background-color: #fff; color: #111; padding: 20px;font-family: \"Segoe UI\", Arial, sans-serif; font-size: 110%;border: solid 1px #bbb; box-shadow: 5px 5px 5px #bbb;'>\n",
    "<p>If a box contains twenty-one coloured discs, composed of fifteen blue discs and six red discs, and two discs were taken at random, it can be seen that the probability of taking two blue discs, P(BB) = (15/21)×(14/20) = 1/2.</p>\n",
    "<p>The next such arrangement, for which there is exactly 50% chance of taking two blue discs at random, is a box containing eighty-five blue discs and thirty-five red discs.</p>\n",
    "<p>By finding the first arrangement to contain over 10<sup>12</sup> = 1,000,000,000,000 discs in total, determine the number of blue discs that the box would contain.</p>\n",
    "</div>"
   ]
  },
  {
   "cell_type": "code",
   "execution_count": null,
   "metadata": {
    "collapsed": true
   },
   "outputs": [],
   "source": []
  }
 ],
 "metadata": {
  "kernelspec": {
   "display_name": "Python (py36_euler)",
   "language": "python",
   "name": "py36_euler"
  },
  "language_info": {
   "codemirror_mode": {
    "name": "ipython",
    "version": 3
   },
   "file_extension": ".py",
   "mimetype": "text/x-python",
   "name": "python",
   "nbconvert_exporter": "python",
   "pygments_lexer": "ipython3",
   "version": "3.6.7"
  }
 },
 "nbformat": 4,
 "nbformat_minor": 2
}
