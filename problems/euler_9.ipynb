{
 "cells": [
  {
   "cell_type": "markdown",
   "metadata": {
    "collapsed": true
   },
   "source": [
    "<div style=\"text-align:center;\">\n",
    "<img alt=\"\" <img src=\"./images/logo_default.png\"/><br/>\n",
    "</div>"
   ]
  },
  {
   "cell_type": "code",
   "execution_count": null,
   "metadata": {},
   "outputs": [],
   "source": []
  },
  {
   "cell_type": "markdown",
   "metadata": {
    "collapsed": true
   },
   "source": [
    "<h2 style=\"color: #6b4e3d;\">Path sum: two ways</h2>\n",
    "<div id=\"problem_info\" style=\"font-family: Consolas;\"><h3>Problem 81</h3></div>\n",
    "<div class=\"problem_content\" role=\"problem\" style='background-color: #fff; color: #111; padding: 20px;font-family: \"Segoe UI\", Arial, sans-serif; font-size: 110%;border: solid 1px #bbb; box-shadow: 5px 5px 5px #bbb;'>\n",
    "<p>In the 5 by 5 matrix below, the minimal path sum from the top left to the bottom right, by <b>only moving to the right and down</b>, is indicated in bold red and is equal to 2427.</p>\n",
    "<div style=\"text-align:center;\">\n",
    "$$\n",
    "\\begin{pmatrix}\n",
    "\\color{red}{131} &amp; 673 &amp; 234 &amp; 103 &amp; 18\\\\\n",
    "\\color{red}{201} &amp; \\color{red}{96} &amp; \\color{red}{342} &amp; 965 &amp; 150\\\\\n",
    "630 &amp; 803 &amp; \\color{red}{746} &amp; \\color{red}{422} &amp; 111\\\\\n",
    "537 &amp; 699 &amp; 497 &amp; \\color{red}{121} &amp; 956\\\\\n",
    "805 &amp; 732 &amp; 524 &amp; \\color{red}{37} &amp; \\color{red}{331}\n",
    "\\end{pmatrix}\n",
    "$$\n",
    "</div>\n",
    "<p>Find the minimal path sum, in <a href=\"project/resources/p081_matrix.txt\">matrix.txt</a> (right click and \"Save Link/Target As...\"), a 31K text file containing a 80 by 80 matrix, from the top left to the bottom right by only moving right and down.</p>\n",
    "</div>"
   ]
  },
  {
   "cell_type": "code",
   "execution_count": null,
   "metadata": {
    "collapsed": true
   },
   "outputs": [],
   "source": []
  },
  {
   "cell_type": "markdown",
   "metadata": {
    "collapsed": true
   },
   "source": [
    "<h2 style=\"color: #6b4e3d;\">Path sum: three ways</h2>\n",
    "<div id=\"problem_info\" style=\"font-family: Consolas;\"><h3>Problem 82</h3></div>\n",
    "<div class=\"problem_content\" role=\"problem\" style='background-color: #fff; color: #111; padding: 20px;font-family: \"Segoe UI\", Arial, sans-serif; font-size: 110%;border: solid 1px #bbb; box-shadow: 5px 5px 5px #bbb;'>\n",
    "<p class=\"small_notice\">NOTE: This problem is a more challenging version of <a href=\"problem=81\">Problem 81</a>.</p>\n",
    "<p>The minimal path sum in the 5 by 5 matrix below, by starting in any cell in the left column and finishing in any cell in the right column, and only moving up, down, and right, is indicated in red and bold; the sum is equal to 994.</p>\n",
    "<div style=\"text-align:center;\">\n",
    "$$\n",
    "\\begin{pmatrix}\n",
    "131 &amp; 673 &amp; \\color{red}{234} &amp; \\color{red}{103} &amp; \\color{red}{18}\\\\\n",
    "\\color{red}{201} &amp; \\color{red}{96} &amp; \\color{red}{342} &amp; 965 &amp; 150\\\\\n",
    "630 &amp; 803 &amp; 746 &amp; 422 &amp; 111\\\\\n",
    "537 &amp; 699 &amp; 497 &amp; 121 &amp; 956\\\\\n",
    "805 &amp; 732 &amp; 524 &amp; 37 &amp; 331\n",
    "\\end{pmatrix}\n",
    "$$\n",
    "</div>\n",
    "<p>Find the minimal path sum, in <a href=\"project/resources/p082_matrix.txt\">matrix.txt</a> (right click and \"Save Link/Target As...\"), a 31K text file containing a 80 by 80 matrix, from the left column to the right column.</p>\n",
    "</div>"
   ]
  },
  {
   "cell_type": "code",
   "execution_count": null,
   "metadata": {
    "collapsed": true
   },
   "outputs": [],
   "source": []
  },
  {
   "cell_type": "markdown",
   "metadata": {
    "collapsed": true
   },
   "source": [
    "<h2 style=\"color: #6b4e3d;\">Path sum: four ways</h2>\n",
    "<div id=\"problem_info\" style=\"font-family: Consolas;\"><h3>Problem 83</h3></div>\n",
    "<div class=\"problem_content\" role=\"problem\" style='background-color: #fff; color: #111; padding: 20px;font-family: \"Segoe UI\", Arial, sans-serif; font-size: 110%;border: solid 1px #bbb; box-shadow: 5px 5px 5px #bbb;'>\n",
    "<p class=\"small_notice\">NOTE: This problem is a significantly more challenging version of <a href=\"problem=81\">Problem 81</a>.</p>\n",
    "<p>In the 5 by 5 matrix below, the minimal path sum from the top left to the bottom right, by moving left, right, up, and down, is indicated in bold red and is equal to 2297.</p>\n",
    "<div style=\"text-align:center;\">\n",
    "$$\n",
    "\\begin{pmatrix}\n",
    "\\color{red}{131} &amp; 673 &amp; \\color{red}{234} &amp; \\color{red}{103} &amp; \\color{red}{18}\\\\\n",
    "\\color{red}{201} &amp; \\color{red}{96} &amp; \\color{red}{342} &amp; 965 &amp; \\color{red}{150}\\\\\n",
    "630 &amp; 803 &amp; 746 &amp; \\color{red}{422} &amp; \\color{red}{111}\\\\\n",
    "537 &amp; 699 &amp; 497 &amp; \\color{red}{121} &amp; 956\\\\\n",
    "805 &amp; 732 &amp; 524 &amp; \\color{red}{37} &amp; \\color{red}{331}\n",
    "\\end{pmatrix}\n",
    "$$\n",
    "</div>\n",
    "<p>Find the minimal path sum, in <a href=\"project/resources/p083_matrix.txt\">matrix.txt</a> (right click and \n",
    "\"Save Link/Target As...\"), a 31K text file containing a 80 by 80 matrix, from the top left to the bottom right by moving left, right, up, and down.</p>\n",
    "</div>"
   ]
  },
  {
   "cell_type": "code",
   "execution_count": null,
   "metadata": {
    "collapsed": true
   },
   "outputs": [],
   "source": []
  },
  {
   "cell_type": "markdown",
   "metadata": {
    "collapsed": true
   },
   "source": [
    "<h2 style=\"color: #6b4e3d;\">Monopoly odds</h2>\n",
    "<div id=\"problem_info\" style=\"font-family: Consolas;\"><h3>Problem 84</h3></div>\n",
    "<div class=\"problem_content\" role=\"problem\" style='background-color: #fff; color: #111; padding: 20px;font-family: \"Segoe UI\", Arial, sans-serif; font-size: 110%;border: solid 1px #bbb; box-shadow: 5px 5px 5px #bbb;'>\n",
    "<p>In the game, <i>Monopoly</i>, the standard board is set up in the following way:</p>\n",
    "<div style=\"text-align:center;\">\n",
    "<table align=\"center\" border=\"0\" cellpadding=\"5\" cellspacing=\"1\" style=\"background-color:#333333;color:#333;\"><tr><td style=\"background-color:#ffffff;\">GO</td>\n",
    "<td style=\"background-color:#ffffff;\">A1</td>\n",
    "<td style=\"background-color:#ffffff;\">CC1</td>\n",
    "<td style=\"background-color:#ffffff;\">A2</td>\n",
    "<td style=\"background-color:#ffffff;\">T1</td>\n",
    "<td style=\"background-color:#ffffff;\">R1</td>\n",
    "<td style=\"background-color:#ffffff;\">B1</td>\n",
    "<td style=\"background-color:#ffffff;\">CH1</td>\n",
    "<td style=\"background-color:#ffffff;\">B2</td>\n",
    "<td style=\"background-color:#ffffff;\">B3</td>\n",
    "<td style=\"background-color:#ffffff;\">JAIL</td>\n",
    "</tr><tr><td style=\"background-color:#ffffff;\">H2</td>\n",
    "<td colspan=\"9\"> </td>\n",
    "<td style=\"background-color:#ffffff;\">C1</td>\n",
    "</tr><tr><td style=\"background-color:#ffffff;\">T2</td>\n",
    "<td colspan=\"9\"> </td>\n",
    "<td style=\"background-color:#ffffff;\">U1</td>\n",
    "</tr><tr><td style=\"background-color:#ffffff;\">H1</td>\n",
    "<td colspan=\"9\"> </td>\n",
    "<td style=\"background-color:#ffffff;\">C2</td>\n",
    "</tr><tr><td style=\"background-color:#ffffff;\">CH3</td>\n",
    "<td colspan=\"9\"> </td>\n",
    "<td style=\"background-color:#ffffff;\">C3</td>\n",
    "</tr><tr><td style=\"background-color:#ffffff;\">R4</td>\n",
    "<td colspan=\"9\"> </td>\n",
    "<td style=\"background-color:#ffffff;\">R2</td>\n",
    "</tr><tr><td style=\"background-color:#ffffff;\">G3</td>\n",
    "<td colspan=\"9\"> </td>\n",
    "<td style=\"background-color:#ffffff;\">D1</td>\n",
    "</tr><tr><td style=\"background-color:#ffffff;\">CC3</td>\n",
    "<td colspan=\"9\"> </td>\n",
    "<td style=\"background-color:#ffffff;\">CC2</td>\n",
    "</tr><tr><td style=\"background-color:#ffffff;\">G2</td>\n",
    "<td colspan=\"9\"> </td>\n",
    "<td style=\"background-color:#ffffff;\">D2</td>\n",
    "</tr><tr><td style=\"background-color:#ffffff;\">G1</td>\n",
    "<td colspan=\"9\"> </td>\n",
    "<td style=\"background-color:#ffffff;\">D3</td>\n",
    "</tr><tr><td style=\"background-color:#ffffff;\">G2J</td>\n",
    "<td style=\"background-color:#ffffff;\">F3</td>\n",
    "<td style=\"background-color:#ffffff;\">U2</td>\n",
    "<td style=\"background-color:#ffffff;\">F2</td>\n",
    "<td style=\"background-color:#ffffff;\">F1</td>\n",
    "<td style=\"background-color:#ffffff;\">R3</td>\n",
    "<td style=\"background-color:#ffffff;\">E3</td>\n",
    "<td style=\"background-color:#ffffff;\">E2</td>\n",
    "<td style=\"background-color:#ffffff;\">CH2</td>\n",
    "<td style=\"background-color:#ffffff;\">E1</td>\n",
    "<td style=\"background-color:#ffffff;\">FP</td>\n",
    "</tr></table></div>\n",
    "<p>A player starts on the GO square and adds the scores on two 6-sided dice to determine the number of squares they advance in a clockwise direction. Without any further rules we would expect to visit each square with equal probability: 2.5%. However, landing on G2J (Go To Jail), CC (community chest), and CH (chance) changes this distribution.</p>\n",
    "<p>In addition to G2J, and one card from each of CC and CH, that orders the player to go directly to jail, if a player rolls three consecutive doubles, they do not advance the result of their 3rd roll. Instead they proceed directly to jail.</p>\n",
    "<p>At the beginning of the game, the CC and CH cards are shuffled. When a player lands on CC or CH they take a card from the top of the respective pile and, after following the instructions, it is returned to the bottom of the pile. There are sixteen cards in each pile, but for the purpose of this problem we are only concerned with cards that order a movement; any instruction not concerned with movement will be ignored and the player will remain on the CC/CH square.</p>\n",
    "<ul><li>Community Chest (2/16 cards):\n",
    "<ol><li>Advance to GO</li>\n",
    "<li>Go to JAIL</li>\n",
    "</ol></li>\n",
    "<li>Chance (10/16 cards):\n",
    "<ol><li>Advance to GO</li>\n",
    "<li>Go to JAIL</li>\n",
    "<li>Go to C1</li>\n",
    "<li>Go to E3</li>\n",
    "<li>Go to H2</li>\n",
    "<li>Go to R1</li>\n",
    "<li>Go to next R (railway company)</li>\n",
    "<li>Go to next R</li>\n",
    "<li>Go to next U (utility company)</li>\n",
    "<li>Go back 3 squares.</li>\n",
    "</ol></li>\n",
    "</ul><p>The heart of this problem concerns the likelihood of visiting a particular square. That is, the probability of finishing at that square after a roll. For this reason it should be clear that, with the exception of G2J for which the probability of finishing on it is zero, the CH squares will have the lowest probabilities, as 5/8 request a movement to another square, and it is the final square that the player finishes at on each roll that we are interested in. We shall make no distinction between \"Just Visiting\" and being sent to JAIL, and we shall also ignore the rule about requiring a double to \"get out of jail\", assuming that they pay to get out on their next turn.</p>\n",
    "<p>By starting at GO and numbering the squares sequentially from 00 to 39 we can concatenate these two-digit numbers to produce strings that correspond with sets of squares.</p>\n",
    "<p>Statistically it can be shown that the three most popular squares, in order, are JAIL (6.24%) = Square 10, E3 (3.18%) = Square 24, and GO (3.09%) = Square 00. So these three most popular squares can be listed with the six-digit modal string: 102400.</p>\n",
    "<p>If, instead of using two 6-sided dice, two 4-sided dice are used, find the six-digit modal string.</p>\n",
    "</div>"
   ]
  },
  {
   "cell_type": "code",
   "execution_count": null,
   "metadata": {
    "collapsed": true
   },
   "outputs": [],
   "source": []
  },
  {
   "cell_type": "markdown",
   "metadata": {
    "collapsed": true
   },
   "source": [
    "<h2 style=\"color: #6b4e3d;\">Counting rectangles</h2>\n",
    "<div id=\"problem_info\" style=\"font-family: Consolas;\"><h3>Problem 85</h3></div>\n",
    "<div class=\"problem_content\" role=\"problem\" style='background-color: #fff; color: #111; padding: 20px;font-family: \"Segoe UI\", Arial, sans-serif; font-size: 110%;border: solid 1px #bbb; box-shadow: 5px 5px 5px #bbb;'>\n",
    "<p>By counting carefully it can be seen that a rectangular grid measuring 3 by 2 contains eighteen rectangles:</p>\n",
    "<div style=\"text-align:center;\">\n",
    "<img alt=\"\" class=\"dark_img\" <img src=\"./images/p085.png\"/></div>\n",
    "<p>Although there exists no rectangular grid that contains exactly two million rectangles, find the area of the grid with the nearest solution.</p>\n",
    "</div>"
   ]
  },
  {
   "cell_type": "code",
   "execution_count": null,
   "metadata": {
    "collapsed": true
   },
   "outputs": [],
   "source": []
  },
  {
   "cell_type": "markdown",
   "metadata": {
    "collapsed": true
   },
   "source": [
    "<h2 style=\"color: #6b4e3d;\">Cuboid route</h2>\n",
    "<div id=\"problem_info\" style=\"font-family: Consolas;\"><h3>Problem 86</h3></div>\n",
    "<div class=\"problem_content\" role=\"problem\" style='background-color: #fff; color: #111; padding: 20px;font-family: \"Segoe UI\", Arial, sans-serif; font-size: 110%;border: solid 1px #bbb; box-shadow: 5px 5px 5px #bbb;'>\n",
    "<p>A spider, S, sits in one corner of a cuboid room, measuring 6 by 5 by 3, and a fly, F, sits in the opposite corner. By travelling on the surfaces of the room the shortest \"straight line\" distance from S to F is 10 and the path is shown on the diagram.</p>\n",
    "<div style=\"text-align:center;\">\n",
    "<img alt=\"\" class=\"dark_img\" <img src=\"./images/p086.png\"/><br/></div>\n",
    "<p>However, there are up to three \"shortest\" path candidates for any given cuboid and the shortest route doesn't always have integer length.</p>\n",
    "<p>It can be shown that there are exactly 2060 distinct cuboids, ignoring rotations, with integer dimensions, up to a maximum size of M by M by M, for which the shortest route has integer length when M = 100. This is the least value of M for which the number of solutions first exceeds two thousand; the number of solutions when M = 99 is 1975.</p>\n",
    "<p>Find the least value of M such that the number of solutions first exceeds one million.</p>\n",
    "</div>"
   ]
  },
  {
   "cell_type": "code",
   "execution_count": null,
   "metadata": {
    "collapsed": true
   },
   "outputs": [],
   "source": []
  },
  {
   "cell_type": "markdown",
   "metadata": {
    "collapsed": true
   },
   "source": [
    "<h2 style=\"color: #6b4e3d;\">Prime power triples</h2>\n",
    "<div id=\"problem_info\" style=\"font-family: Consolas;\"><h3>Problem 87</h3></div>\n",
    "<div class=\"problem_content\" role=\"problem\" style='background-color: #fff; color: #111; padding: 20px;font-family: \"Segoe UI\", Arial, sans-serif; font-size: 110%;border: solid 1px #bbb; box-shadow: 5px 5px 5px #bbb;'>\n",
    "<p>The smallest number expressible as the sum of a prime square, prime cube, and prime fourth power is 28. In fact, there are exactly four numbers below fifty that can be expressed in such a way:</p>\n",
    "<p style=\"margin-left:50px;\">28 = 2<sup>2</sup> + 2<sup>3</sup> + 2<sup>4</sup><br>\n",
    "33 = 3<sup>2</sup> + 2<sup>3</sup> + 2<sup>4</sup><br/>\n",
    "49 = 5<sup>2</sup> + 2<sup>3</sup> + 2<sup>4</sup><br/>\n",
    "47 = 2<sup>2</sup> + 3<sup>3</sup> + 2<sup>4</sup></br></p>\n",
    "<p>How many numbers below fifty million can be expressed as the sum of a prime square, prime cube, and prime fourth power?</p>\n",
    "</div>"
   ]
  },
  {
   "cell_type": "code",
   "execution_count": null,
   "metadata": {
    "collapsed": true
   },
   "outputs": [],
   "source": []
  },
  {
   "cell_type": "markdown",
   "metadata": {
    "collapsed": true
   },
   "source": [
    "<h2 style=\"color: #6b4e3d;\">Product-sum numbers</h2>\n",
    "<div id=\"problem_info\" style=\"font-family: Consolas;\"><h3>Problem 88</h3></div>\n",
    "<div class=\"problem_content\" role=\"problem\" style='background-color: #fff; color: #111; padding: 20px;font-family: \"Segoe UI\", Arial, sans-serif; font-size: 110%;border: solid 1px #bbb; box-shadow: 5px 5px 5px #bbb;'>\n",
    "<p>A natural number, N, that can be written as the sum and product of a given set of at least two natural numbers, {<i>a</i><sub>1</sub>, <i>a</i><sub>2</sub>, ... , <i>a</i><sub><i>k</i></sub>} is called a product-sum number: N = <i>a</i><sub>1</sub> + <i>a</i><sub>2</sub> + ... + <i>a</i><sub><i>k</i></sub> = <i>a</i><sub>1</sub> × <i>a</i><sub>2</sub> × ... × <i>a</i><sub><i>k</i></sub>.</p>\n",
    "<p>For example, 6 = 1 + 2 + 3 = 1 × 2 × 3.</p>\n",
    "<p>For a given set of size, <i>k</i>, we shall call the smallest N with this property a minimal product-sum number. The minimal product-sum numbers for sets of size, <i>k</i> = 2, 3, 4, 5, and 6 are as follows.</p>\n",
    "<p style=\"margin-left:50px;\"><i>k</i>=2: 4 = 2 × 2 = 2 + 2<br><i>k</i>=3: 6 = 1 × 2 × 3 = 1 + 2 + 3<br/><i>k</i>=4: 8 = 1 × 1 × 2 × 4 = 1 + 1 + 2 + 4<br/><i>k</i>=5: 8 = 1 × 1 × 2 × 2 × 2  = 1 + 1 + 2 + 2 + 2<br/><i>k</i>=6: 12 = 1 × 1 × 1 × 1 × 2 × 6 = 1 + 1 + 1 + 1 + 2 + 6</br></p>\n",
    "<p>Hence for 2≤<i>k</i>≤6, the sum of all the minimal product-sum numbers is 4+6+8+12 = 30; note that 8 is only counted once in the sum.</p>\n",
    "<p>In fact, as the complete set of minimal product-sum numbers for 2≤<i>k</i>≤12 is {4, 6, 8, 12, 15, 16}, the sum is 61.</p>\n",
    "<p>What is the sum of all the minimal product-sum numbers for 2≤<i>k</i>≤12000?</p>\n",
    "</div>"
   ]
  },
  {
   "cell_type": "code",
   "execution_count": null,
   "metadata": {
    "collapsed": true
   },
   "outputs": [],
   "source": []
  },
  {
   "cell_type": "markdown",
   "metadata": {
    "collapsed": true
   },
   "source": [
    "<h2 style=\"color: #6b4e3d;\">Roman numerals</h2>\n",
    "<div id=\"problem_info\" style=\"font-family: Consolas;\"><h3>Problem 89</h3></div>\n",
    "<div class=\"problem_content\" role=\"problem\" style='background-color: #fff; color: #111; padding: 20px;font-family: \"Segoe UI\", Arial, sans-serif; font-size: 110%;border: solid 1px #bbb; box-shadow: 5px 5px 5px #bbb;'>\n",
    "<p>For a number written in Roman numerals to be considered valid there are basic rules which must be followed. Even though the rules allow some numbers to be expressed in more than one way there is always a \"best\" way of writing a particular number.</p>\n",
    "<p>For example, it would appear that there are at least six ways of writing the number sixteen:</p>\n",
    "<p style=\"margin-left:50px;font-family:'courier new', monospace;\">IIIIIIIIIIIIIIII<br>\n",
    "VIIIIIIIIIII<br/>\n",
    "VVIIIIII<br/>\n",
    "XIIIIII<br/>\n",
    "VVVI<br/>\n",
    "XVI</br></p>\n",
    "<p>However, according to the rules only <span style=\"font-family:'courier new', monospace;\">XIIIIII</span> and <span style=\"font-family:'courier new', monospace;\">XVI</span> are valid, and the last example is considered to be the most efficient, as it uses the least number of numerals.</p>\n",
    "<p>The 11K text file, <a href=\"project/resources/p089_roman.txt\">roman.txt</a> (right click and 'Save Link/Target As...'), contains one thousand numbers written in valid, but not necessarily minimal, Roman numerals; see <a href=\"about=roman_numerals\">About... Roman Numerals</a> for the definitive rules for this problem.</p>\n",
    "<p>Find the number of characters saved by writing each of these in their minimal form.</p>\n",
    "<p class=\"note\">Note: You can assume that all the Roman numerals in the file contain no more than four consecutive identical units.</p>\n",
    "</div>"
   ]
  },
  {
   "cell_type": "code",
   "execution_count": null,
   "metadata": {
    "collapsed": true
   },
   "outputs": [],
   "source": []
  },
  {
   "cell_type": "markdown",
   "metadata": {
    "collapsed": true
   },
   "source": [
    "<h2 style=\"color: #6b4e3d;\">Cube digit pairs</h2>\n",
    "<div id=\"problem_info\" style=\"font-family: Consolas;\"><h3>Problem 90</h3></div>\n",
    "<div class=\"problem_content\" role=\"problem\" style='background-color: #fff; color: #111; padding: 20px;font-family: \"Segoe UI\", Arial, sans-serif; font-size: 110%;border: solid 1px #bbb; box-shadow: 5px 5px 5px #bbb;'>\n",
    "<p>Each of the six faces on a cube has a different digit (0 to 9) written on it; the same is done to a second cube. By placing the two cubes side-by-side in different positions we can form a variety of 2-digit numbers.</p>\n",
    "<p>For example, the square number 64 could be formed:</p>\n",
    "<div style=\"text-align:center;\">\n",
    "<img alt=\"\" class=\"dark_img\" <img src=\"./images/p090.png\"/><br/></div>\n",
    "<p>In fact, by carefully choosing the digits on both cubes it is possible to display all of the square numbers below one-hundred: 01, 04, 09, 16, 25, 36, 49, 64, and 81.</p>\n",
    "<p>For example, one way this can be achieved is by placing {0, 5, 6, 7, 8, 9} on one cube and {1, 2, 3, 4, 8, 9} on the other cube.</p>\n",
    "<p>However, for this problem we shall allow the 6 or 9 to be turned upside-down so that an arrangement like {0, 5, 6, 7, 8, 9} and {1, 2, 3, 4, 6, 7} allows for all nine square numbers to be displayed; otherwise it would be impossible to obtain 09.</p>\n",
    "<p>In determining a distinct arrangement we are interested in the digits on each cube, not the order.</p>\n",
    "<p style=\"margin-left:50px;\">{1, 2, 3, 4, 5, 6} is equivalent to {3, 6, 4, 1, 2, 5}<br/>\n",
    "{1, 2, 3, 4, 5, 6} is distinct from {1, 2, 3, 4, 5, 9}</p>\n",
    "<p>But because we are allowing 6 and 9 to be reversed, the two distinct sets in the last example both represent the extended set {1, 2, 3, 4, 5, 6, 9} for the purpose of forming 2-digit numbers.</p>\n",
    "<p>How many distinct arrangements of the two cubes allow for all of the square numbers to be displayed?</p>\n",
    "</div>"
   ]
  },
  {
   "cell_type": "code",
   "execution_count": null,
   "metadata": {
    "collapsed": true
   },
   "outputs": [],
   "source": []
  }
 ],
 "metadata": {
  "kernelspec": {
   "display_name": "Python (py36_euler)",
   "language": "python",
   "name": "py36_euler"
  },
  "language_info": {
   "codemirror_mode": {
    "name": "ipython",
    "version": 3
   },
   "file_extension": ".py",
   "mimetype": "text/x-python",
   "name": "python",
   "nbconvert_exporter": "python",
   "pygments_lexer": "ipython3",
   "version": "3.6.7"
  }
 },
 "nbformat": 4,
 "nbformat_minor": 2
}
